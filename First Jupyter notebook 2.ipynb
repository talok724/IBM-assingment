{
 "cells": [
  {
   "cell_type": "markdown",
   "id": "8f3dbf4e-60e5-4c8c-962b-0c65c1befd38",
   "metadata": {},
   "source": [
    "# My Jupyter Notebook on IBM Watson Studio"
   ]
  },
  {
   "cell_type": "markdown",
   "id": "c1b6dc96-4d91-4768-aa71-18522bd52757",
   "metadata": {},
   "source": [
    "**Alok Tripathi**<br>\n",
    "Data Scientist"
   ]
  },
  {
   "cell_type": "markdown",
   "id": "6fa31ef4-fbe5-4b83-9b8e-9ed4326e581a",
   "metadata": {},
   "source": [
    "*I am interested in data science because i love to play with data and find insight from it*"
   ]
  },
  {
   "cell_type": "markdown",
   "id": "14ec0d2b-4569-46c0-a5c1-5fbb70b75807",
   "metadata": {},
   "source": [
    "### My code is allocating the variables to 2 values and finding the sum of the 2 values"
   ]
  },
  {
   "cell_type": "code",
   "execution_count": 1,
   "id": "7aed1c62-4d15-4f28-821c-4099197afc7e",
   "metadata": {},
   "outputs": [
    {
     "name": "stdout",
     "output_type": "stream",
     "text": [
      "20\n"
     ]
    }
   ],
   "source": [
    "a=5\n",
    "b=15\n",
    "c=a+b\n",
    "print(c)"
   ]
  },
  {
   "cell_type": "markdown",
   "id": "b7b3ce8f-6bbc-45b4-8c21-d419113392e9",
   "metadata": {},
   "source": [
    "|Name|No.|\n",
    "|--|--|\n",
    "|Alok|7|\n",
    "\n",
    "~~print(c)~~\n",
    "\n"
   ]
  },
  {
   "cell_type": "markdown",
   "id": "2a7b4162-7092-4083-b95b-30fcfee7ea3d",
   "metadata": {},
   "source": [
    "<a href=\"https://labs.cognitiveclass.ai/v2/tools/jupyterlab?ulid=ulid-78f1b366d66d4712141e259f1365edbaf01e32a8\">this is a link to my assingment notebook</a>"
   ]
  },
  {
   "cell_type": "code",
   "execution_count": null,
   "id": "5e391403-dfd8-4d5d-adfb-2855bde1e1c3",
   "metadata": {},
   "outputs": [],
   "source": []
  }
 ],
 "metadata": {
  "kernelspec": {
   "display_name": "Python",
   "language": "python",
   "name": "conda-env-python-py"
  },
  "language_info": {
   "codemirror_mode": {
    "name": "ipython",
    "version": 3
   },
   "file_extension": ".py",
   "mimetype": "text/x-python",
   "name": "python",
   "nbconvert_exporter": "python",
   "pygments_lexer": "ipython3",
   "version": "3.7.12"
  }
 },
 "nbformat": 4,
 "nbformat_minor": 5
}
