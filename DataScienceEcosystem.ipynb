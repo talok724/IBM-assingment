{
 "cells": [
  {
   "cell_type": "markdown",
   "id": "292a18ce",
   "metadata": {},
   "source": [
    "# Data Science Tools and Ecosystem"
   ]
  },
  {
   "cell_type": "markdown",
   "id": "0b020a0b",
   "metadata": {},
   "source": [
    "This notebook contain my assingment about the IBM 2nd course which i have learnt from the Coursera application\n",
    "I am trying to optimize the code and the markdown cell in this notebook"
   ]
  },
  {
   "cell_type": "markdown",
   "id": "b92eac3f",
   "metadata": {},
   "source": [
    "Some of the popular languages that Data Scientists use are:<br>\n",
    "    1.Python<br>\n",
    "    2.SQL<br>\n",
    "    3.R Studio<br>\n"
   ]
  },
  {
   "cell_type": "markdown",
   "id": "0177a464",
   "metadata": {},
   "source": [
    "Some of the commonly used libraries used by Data Scientists include:<br>\n",
    "    1. Numpy<br>\n",
    "    2.Pandas<br>\n",
    "    3.Matplotlib<br>\n",
    "    4.Seaborn\n"
   ]
  },
  {
   "cell_type": "markdown",
   "id": "30d337bf",
   "metadata": {},
   "source": [
    "|Data Science Tools|\n",
    "|--|\n",
    "|Data Visualization|\n",
    "|Data Mining|\n",
    "|Model Deployment|\n"
   ]
  },
  {
   "cell_type": "markdown",
   "id": "97d0f7fc",
   "metadata": {},
   "source": [
    "### Below are a few examples of evaluating arithmetic expressions in Python"
   ]
  },
  {
   "cell_type": "code",
   "execution_count": 1,
   "id": "214e23ed",
   "metadata": {},
   "outputs": [
    {
     "data": {
      "text/plain": [
       "17"
      ]
     },
     "execution_count": 1,
     "metadata": {},
     "output_type": "execute_result"
    }
   ],
   "source": [
    "#This a simple arithmetic expression to mutiply then add integers\n",
    "(3*4)+5"
   ]
  },
  {
   "cell_type": "code",
   "execution_count": 2,
   "id": "776d5d55",
   "metadata": {},
   "outputs": [
    {
     "name": "stdout",
     "output_type": "stream",
     "text": [
      "3.3333333333333335\n"
     ]
    }
   ],
   "source": [
    "#This will convert 200 minutes to hours by diving by 60\n",
    "a=(200/60)\n",
    "print(a)"
   ]
  },
  {
   "cell_type": "markdown",
   "id": "7158eb9b",
   "metadata": {},
   "source": [
    "**Objective:**<br>\n",
    "    popular languages that Data Scientists use<br>\n",
    "    Some of the commonly used libraries used by Data Scientists include<br>\n",
    "    simple arithmetic expression<br>\n",
    "    convert 200 minutes to hours<br>"
   ]
  },
  {
   "cell_type": "markdown",
   "id": "ff8017be",
   "metadata": {},
   "source": [
    "## Author\n",
    "ALOK TRIPATHI"
   ]
  },
  {
   "cell_type": "code",
   "execution_count": null,
   "id": "09fdd57d",
   "metadata": {},
   "outputs": [],
   "source": []
  }
 ],
 "metadata": {
  "kernelspec": {
   "display_name": "Python 3 (ipykernel)",
   "language": "python",
   "name": "python3"
  },
  "language_info": {
   "codemirror_mode": {
    "name": "ipython",
    "version": 3
   },
   "file_extension": ".py",
   "mimetype": "text/x-python",
   "name": "python",
   "nbconvert_exporter": "python",
   "pygments_lexer": "ipython3",
   "version": "3.9.13"
  }
 },
 "nbformat": 4,
 "nbformat_minor": 5
}
